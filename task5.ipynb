{
 "cells": [
  {
   "cell_type": "markdown",
   "metadata": {},
   "source": [
    "# Task5: Python notebook calling scripts"
   ]
  },
  {
   "cell_type": "markdown",
   "metadata": {},
   "source": [
    "1. Call the task1_a script (task1_a.py)\n",
    "\n",
    "Input file: None\n",
    "\n",
    "Function: Generating 1000 random numbers over the range 0-100\n",
    "\n",
    "Output file: a_result.txt (1000 random numbers between 0 and 100)"
   ]
  },
  {
   "cell_type": "code",
   "execution_count": 1,
   "metadata": {},
   "outputs": [],
   "source": [
    "%run -i task1_a.py"
   ]
  },
  {
   "cell_type": "markdown",
   "metadata": {},
   "source": [
    "2. Call the task1_b script (task1_b.py) for generating  and making an output file ()\n",
    "\n",
    "Input file: a_result.txt \n",
    "\n",
    "Function: Generating new numbers from random numbers x (a_result.txt) using the equation y=3x+6\n",
    "\n",
    "Output file: b_result.txt (new numbers y = 3x+6)"
   ]
  },
  {
   "cell_type": "code",
   "execution_count": 2,
   "metadata": {},
   "outputs": [],
   "source": [
    "%run -i task1_b.py"
   ]
  },
  {
   "cell_type": "markdown",
   "metadata": {},
   "source": [
    "3. Call the task1_c script (task1_c.py) \n",
    "\n",
    "Input files: a_result.txt, b_result.txt\n",
    "\n",
    "Function: Visualizing the results with a_result.txt (x axis) and b_result.txt (y axis)\n",
    "\n",
    "Output file: visualize.png"
   ]
  },
  {
   "cell_type": "code",
   "execution_count": 3,
   "metadata": {},
   "outputs": [
    {
     "data": {
      "image/png": "[encoded data removed]",
      "text/plain": [
       "<Figure size 432x288 with 1 Axes>"
      ]
     },
     "metadata": {
      "needs_background": "light"
     },
     "output_type": "display_data"
    }
   ],
   "source": [
    "%matplotlib inline\n",
    "%run -i task1_c.py"
   ]
  },
  {
   "cell_type": "code",
   "execution_count": null,
   "metadata": {},
   "outputs": [],
   "source": []
  }
 ],
 "metadata": {
  "kernelspec": {
   "display_name": "Python 3",
   "language": "python",
   "name": "python3"
  },
  "language_info": {
   "codemirror_mode": {
    "name": "ipython",
    "version": 3
   },
   "file_extension": ".py",
   "mimetype": "text/x-python",
   "name": "python",
   "nbconvert_exporter": "python",
   "pygments_lexer": "ipython3",
   "version": "3.7.2"
  }
 },
 "nbformat": 4,
 "nbformat_minor": 2
}
